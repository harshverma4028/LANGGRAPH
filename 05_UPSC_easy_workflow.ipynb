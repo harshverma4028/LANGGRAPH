{
 "cells": [
  {
   "cell_type": "code",
   "execution_count": 2,
   "id": "596df2c6",
   "metadata": {},
   "outputs": [],
   "source": [
    "from langgraph.graph import StateGraph, START, END\n",
    "from langchain_anthropic import ChatAnthropic\n",
    "from dotenv import load_dotenv\n",
    "from typing import TypedDict,Annotated\n",
    "from pydantic import BaseModel, Field\n",
    "import operator"
   ]
  },
  {
   "cell_type": "code",
   "execution_count": 3,
   "id": "9fa68b72",
   "metadata": {},
   "outputs": [
    {
     "data": {
      "text/plain": [
       "True"
      ]
     },
     "execution_count": 3,
     "metadata": {},
     "output_type": "execute_result"
    }
   ],
   "source": [
    "load_dotenv()"
   ]
  },
  {
   "cell_type": "code",
   "execution_count": 4,
   "id": "976dd25f",
   "metadata": {},
   "outputs": [],
   "source": [
    "model = ChatAnthropic(model_name=\"claude-3-5-sonnet-latest\")"
   ]
  },
  {
   "cell_type": "code",
   "execution_count": 9,
   "id": "200ae269",
   "metadata": {},
   "outputs": [],
   "source": [
    "class EvaluationSchema(BaseModel):\n",
    "    feedback: str = Field(description='Deatiled feedback for the  eassay')\n",
    "    score: int = Field(description='Score out of 10',ge=0,le=10)"
   ]
  },
  {
   "cell_type": "code",
   "execution_count": 10,
   "id": "beac165b",
   "metadata": {},
   "outputs": [],
   "source": [
    "structrued_model = model.with_structured_output(EvaluationSchema)"
   ]
  },
  {
   "cell_type": "code",
   "execution_count": 29,
   "id": "7807bbe1",
   "metadata": {},
   "outputs": [],
   "source": [
    "essay = \"\"\"Role of India in Artificial Intelligence (AI)\n",
    "\n",
    "Artificial Intelligence (AI) has emerged as one of the most transformative technologies of the 21st century, impacting sectors such as healthcare, agriculture, finance, education, and governance. As the world races toward AI-driven innovation, India is playing an increasingly significant role in shaping the global AI landscape. With its large pool of skilled talent, a growing tech ecosystem, and proactive government initiatives, India is positioning itself as a major hub for AI development and deployment.\n",
    "\n",
    "Government Initiatives and Policy Frameworks\n",
    "\n",
    "Recognizing the potential of AI, the Indian government has launched several initiatives to promote its development and ethical use. The NITI Aayog, India’s premier policy think tank, has played a leading role in shaping the national AI strategy. Its report, “National Strategy for Artificial Intelligence – #AIForAll”, outlines a vision to leverage AI for inclusive growth and addresses sectors like agriculture, healthcare, education, smart cities, and smart mobility. The establishment of the National AI Portal, and proposed Centers of Excellence in AI, further demonstrate the government's commitment to building a robust AI ecosystem.\n",
    "\n",
    "India's Talent and Tech Ecosystem\n",
    "\n",
    "India boasts one of the world’s largest talent pools in computer science and engineering, producing millions of STEM graduates annually. This talent has fueled the growth of AI research, startups, and tech companies. Indian institutions such as IITs, IIITs, and IISc are conducting cutting-edge research in AI, while numerous startups are innovating across AI-driven applications—from facial recognition and language processing to autonomous vehicles and medical diagnostics.\n",
    "\n",
    "Major Indian IT companies like TCS, Infosys, and Wipro have also made substantial investments in AI, focusing on building AI-powered platforms and solutions for global clients. In addition, multinational companies including Google, Microsoft, and IBM have established AI research labs in India, further cementing its position as a global AI hub.\n",
    "\n",
    "AI for Social Good\n",
    "\n",
    "What sets India apart is its focus on using AI for social impact. AI is being applied to tackle real-world challenges such as predicting crop yields, diagnosing diseases in rural clinics, optimizing traffic in congested cities, and enhancing digital education. For instance, AI-driven solutions have been used to detect tuberculosis in remote areas, identify students at risk of dropping out, and forecast flood-prone regions using satellite data.\n",
    "\n",
    "Challenges and the Road Ahead\n",
    "\n",
    "Despite significant progress, India faces challenges in realizing its full AI potential. These include data privacy concerns, lack of standardized regulations, inadequate computing infrastructure, and limited AI adoption in smaller enterprises. Bridging the urban-rural digital divide and ensuring AI solutions are inclusive and unbiased are also critical.\n",
    "\n",
    "To address these challenges, India must invest further in AI research, encourage public-private partnerships, strengthen digital infrastructure, and implement policies that foster ethical and responsible AI use. Skilling and reskilling the workforce will be crucial in preparing India’s youth for AI-driven jobs of the future.\n",
    "\n",
    "Conclusion\n",
    "\n",
    "India stands at a pivotal point in the AI revolution. With strategic planning, inclusive innovation, and global collaboration, India can not only become a global leader in AI but also use this powerful technology to improve lives, drive economic growth, and solve pressing societal problems. The role India plays in AI will shape not just its own future, but that of the world.\"\"\""
   ]
  },
  {
   "cell_type": "code",
   "execution_count": 14,
   "id": "922bc397",
   "metadata": {},
   "outputs": [
    {
     "data": {
      "text/plain": [
       "EvaluationSchema(feedback=\"The essay demonstrates excellent language quality across multiple dimensions:\\n\\nStrengths:\\n1. Structure and Organization:\\n- Well-organized with clear introduction, body paragraphs, and conclusion\\n- Logical flow of ideas with smooth transitions between paragraphs\\n- Each paragraph focuses on a specific aspect of India's role in AI\\n\\n2. Vocabulary and Expression:\\n- Sophisticated and domain-specific vocabulary used appropriately\\n- Professional and academic tone maintained throughout\\n- Varied sentence structures that enhance readability\\n\\n3. Grammar and Mechanics:\\n- Minimal to no grammatical errors\\n- Proper punctuation and capitalization\\n- Consistent tense usage\\n\\n4. Content Development:\\n- Ideas are well-developed and thoroughly explained\\n- Strong supporting examples and specific details\\n- Balanced coverage of different aspects (government initiatives, talent ecosystem, challenges)\\n\\n5. Clarity and Coherence:\\n- Clear and concise expression of complex ideas\\n- Strong paragraph cohesion\\n- Effective use of linking words and phrases\\n\\nMinor Areas for Improvement:\\n1. Some paragraphs could be more concise while maintaining their informative value\\n2. Could include more specific data points or statistics to strengthen arguments\\n3. Some sentences in the challenges section could be more precisely worded\\n\\nOverall, the essay exhibits strong academic writing skills with clear, professional, and well-articulated content.\", score=9)"
      ]
     },
     "execution_count": 14,
     "metadata": {},
     "output_type": "execute_result"
    }
   ],
   "source": [
    "prompt = f'evaluate the language quality of the following essay and provide feedback and assign a score out of 10 \\n {essay}'\n",
    "structrued_model.invoke(prompt)"
   ]
  },
  {
   "cell_type": "code",
   "execution_count": 21,
   "id": "4ea7df61",
   "metadata": {},
   "outputs": [],
   "source": [
    "class UPSCState(TypedDict):\n",
    "\n",
    "    essay: str\n",
    "    language_feedback: str\n",
    "    analysis_feedback: str\n",
    "    clarity_feedback: str\n",
    "    overall_feedback: str\n",
    "    individual_scores: Annotated[list[int], operator.add]\n",
    "    avg_score: float\n"
   ]
  },
  {
   "cell_type": "code",
   "execution_count": 22,
   "id": "0999ab22",
   "metadata": {},
   "outputs": [],
   "source": [
    "def evaluate_language(state:UPSCState):\n",
    "\n",
    "    prompt = f'evaluate the language quality of the following essay and provide feedback and assign a score out of 10 \\n {state[\"essay\"]}'\n",
    "\n",
    "    output = structrued_model.invoke(prompt)\n",
    "\n",
    "    return {'language_feedback':output.feedback,'individual_scores':[output.score]}\n",
    "\n"
   ]
  },
  {
   "cell_type": "code",
   "execution_count": 23,
   "id": "0ed2a472",
   "metadata": {},
   "outputs": [],
   "source": [
    "def evaluate_analysis(state:UPSCState):\n",
    "\n",
    "    prompt = f'evaluate the depth  of the following essay and provide feedback and assign a score out of 10 \\n {state[\"essay\"]}'\n",
    "\n",
    "    output = structrued_model.invoke(prompt)\n",
    "\n",
    "    return {'analysis_feedback':output.feedback,'individual_scores':[output.score]}"
   ]
  },
  {
   "cell_type": "code",
   "execution_count": 24,
   "id": "0d85b66a",
   "metadata": {},
   "outputs": [],
   "source": [
    "def evaluate_clarity(state:UPSCState):\n",
    "\n",
    "    prompt = f'evaluate the language quality of the following essay and provide feedback and assign a score out of 10 \\n {state[\"essay\"]}'\n",
    "\n",
    "    output = structrued_model.invoke(prompt)\n",
    "\n",
    "    return {'clarity_feedback':output.feedback,'individual_scores':[output.score]}"
   ]
  },
  {
   "cell_type": "code",
   "execution_count": 25,
   "id": "90a23fe0",
   "metadata": {},
   "outputs": [],
   "source": [
    "def final_evaluation(state:UPSCState):\n",
    "\n",
    "    prompt = f'based on the following feedback create a summarized feedback  \\n language feedback -{state[\"language_feedback\"]} \\n depth of analysis feedback - {state[\"analysis_feedback\"]} \\n calaraty of thought feedback - {state['clarity_feedback']}  '\n",
    "    overall_feedback = model.invoke(prompt).content\n",
    "\n",
    "    # avg calcculater\n",
    "    avg_score = sum(state['individual_scores'])/len(state['individual_scores'])\n",
    "\n",
    "    return {'overall_feedback': overall_feedback, 'avg_score':avg_score}"
   ]
  },
  {
   "cell_type": "code",
   "execution_count": 27,
   "id": "b27f4467",
   "metadata": {},
   "outputs": [],
   "source": [
    "graph = StateGraph(UPSCState)\n",
    "\n",
    "graph.add_node('evaluate_language',evaluate_language)\n",
    "graph.add_node('evaluate_analysis',evaluate_analysis)\n",
    "graph.add_node('evaluate_clarity',evaluate_clarity)\n",
    "graph.add_node('final_evaluation',final_evaluation)\n",
    "\n",
    "# edge\n",
    "graph.add_edge(START,'evaluate_language')\n",
    "graph.add_edge(START,'evaluate_analysis')\n",
    "graph.add_edge(START,'evaluate_clarity')\n",
    "\n",
    "graph.add_edge('evaluate_language','final_evaluation')\n",
    "graph.add_edge('evaluate_analysis','final_evaluation')\n",
    "graph.add_edge('evaluate_clarity','final_evaluation')\n",
    "\n",
    "graph.add_edge('final_evaluation',END)\n",
    "\n",
    "workflow = graph.compile()"
   ]
  },
  {
   "cell_type": "code",
   "execution_count": 28,
   "id": "e59beffe",
   "metadata": {},
   "outputs": [
    {
     "data": {
      "image/png": "[encoded data removed]",
      "text/plain": [
       "<langgraph.graph.state.CompiledStateGraph object at 0x000001BC6F1CBCB0>"
      ]
     },
     "execution_count": 28,
     "metadata": {},
     "output_type": "execute_result"
    }
   ],
   "source": [
    "workflow"
   ]
  },
  {
   "cell_type": "code",
   "execution_count": 30,
   "id": "5128d945",
   "metadata": {},
   "outputs": [
    {
     "data": {
      "text/plain": [
       "{'essay': \"Role of India in Artificial Intelligence (AI)\\n\\nArtificial Intelligence (AI) has emerged as one of the most transformative technologies of the 21st century, impacting sectors such as healthcare, agriculture, finance, education, and governance. As the world races toward AI-driven innovation, India is playing an increasingly significant role in shaping the global AI landscape. With its large pool of skilled talent, a growing tech ecosystem, and proactive government initiatives, India is positioning itself as a major hub for AI development and deployment.\\n\\nGovernment Initiatives and Policy Frameworks\\n\\nRecognizing the potential of AI, the Indian government has launched several initiatives to promote its development and ethical use. The NITI Aayog, India’s premier policy think tank, has played a leading role in shaping the national AI strategy. Its report, “National Strategy for Artificial Intelligence – #AIForAll”, outlines a vision to leverage AI for inclusive growth and addresses sectors like agriculture, healthcare, education, smart cities, and smart mobility. The establishment of the National AI Portal, and proposed Centers of Excellence in AI, further demonstrate the government's commitment to building a robust AI ecosystem.\\n\\nIndia's Talent and Tech Ecosystem\\n\\nIndia boasts one of the world’s largest talent pools in computer science and engineering, producing millions of STEM graduates annually. This talent has fueled the growth of AI research, startups, and tech companies. Indian institutions such as IITs, IIITs, and IISc are conducting cutting-edge research in AI, while numerous startups are innovating across AI-driven applications—from facial recognition and language processing to autonomous vehicles and medical diagnostics.\\n\\nMajor Indian IT companies like TCS, Infosys, and Wipro have also made substantial investments in AI, focusing on building AI-powered platforms and solutions for global clients. In addition, multinational companies including Google, Microsoft, and IBM have established AI research labs in India, further cementing its position as a global AI hub.\\n\\nAI for Social Good\\n\\nWhat sets India apart is its focus on using AI for social impact. AI is being applied to tackle real-world challenges such as predicting crop yields, diagnosing diseases in rural clinics, optimizing traffic in congested cities, and enhancing digital education. For instance, AI-driven solutions have been used to detect tuberculosis in remote areas, identify students at risk of dropping out, and forecast flood-prone regions using satellite data.\\n\\nChallenges and the Road Ahead\\n\\nDespite significant progress, India faces challenges in realizing its full AI potential. These include data privacy concerns, lack of standardized regulations, inadequate computing infrastructure, and limited AI adoption in smaller enterprises. Bridging the urban-rural digital divide and ensuring AI solutions are inclusive and unbiased are also critical.\\n\\nTo address these challenges, India must invest further in AI research, encourage public-private partnerships, strengthen digital infrastructure, and implement policies that foster ethical and responsible AI use. Skilling and reskilling the workforce will be crucial in preparing India’s youth for AI-driven jobs of the future.\\n\\nConclusion\\n\\nIndia stands at a pivotal point in the AI revolution. With strategic planning, inclusive innovation, and global collaboration, India can not only become a global leader in AI but also use this powerful technology to improve lives, drive economic growth, and solve pressing societal problems. The role India plays in AI will shape not just its own future, but that of the world.\",\n",
       " 'language_feedback': 'The essay demonstrates excellent language quality across multiple dimensions:\\n\\nStrengths:\\n1. Sophisticated Vocabulary: The writing showcases advanced and domain-specific terminology used appropriately throughout (e.g., \"transformative technologies,\" \"AI-driven innovation,\" \"digital infrastructure\").\\n\\n2. Sentence Structure: There is excellent variation in sentence structure, combining complex and simple sentences effectively. The flow between sentences and paragraphs is smooth and logical.\\n\\n3. Grammar and Mechanics: The essay maintains consistently correct grammar, punctuation, and spelling throughout. No notable errors were detected.\\n\\n4. Organization: The content is well-structured with clear paragraphs, each focusing on a specific aspect of India\\'s role in AI. The introduction and conclusion effectively frame the discussion.\\n\\n5. Academic Tone: The writing maintains a professional, objective tone appropriate for academic discourse while remaining engaging and accessible.\\n\\n6. Cohesion: Ideas flow seamlessly from one paragraph to the next, with effective use of transition phrases and logical progression of thoughts.\\n\\n7. Clarity: Complex concepts are explained clearly without oversimplification, making the content accessible to a general educated audience.\\n\\nMinor Areas for Improvement:\\n1. Some paragraphs could benefit from more specific examples or statistical data to support claims.\\n2. A few sentences in the challenges section could be more concise.\\n\\nOverall, the essay exemplifies high-quality academic writing with strong command of language, clear organization, and professional presentation.',\n",
       " 'analysis_feedback': 'This essay demonstrates a comprehensive and well-structured analysis of India\\'s role in Artificial Intelligence. Here\\'s a detailed evaluation:\\n\\nStrengths:\\n1. Excellent Organization: The essay follows a logical flow, starting with an introduction, moving through various aspects, and concluding effectively.\\n\\n2. Comprehensive Coverage: It addresses multiple dimensions including:\\n- Government initiatives and policy frameworks\\n- Talent ecosystem\\n- Technology infrastructure\\n- Social impact applications\\n- Challenges and future outlook\\n\\n3. Specific Examples: The essay provides concrete examples such as:\\n- NITI Aayog\\'s \"#AIForAll\" strategy\\n- Specific companies (TCS, Infosys, Wipro)\\n- Real-world AI applications in healthcare and agriculture\\n\\n4. Balance: The essay maintains a balanced perspective by discussing both achievements and challenges.\\n\\nAreas for Improvement:\\n1. Statistical Data: The essay could benefit from more specific statistics and data points to support its claims about India\\'s talent pool and AI industry growth.\\n\\n2. International Comparison: A comparative analysis with other major AI players (like US, China) could provide better context.\\n\\n3. Economic Impact: More detail about the economic implications of AI development in India could strengthen the analysis.\\n\\nOverall, this is a well-researched, well-written essay that effectively captures India\\'s emerging role in AI development and implementation. It successfully combines policy analysis, technological assessment, and social impact considerations.',\n",
       " 'clarity_feedback': 'The essay demonstrates excellent language quality across multiple dimensions:\\n\\nStrengths:\\n1. Sophisticated Vocabulary: The writing showcases advanced vocabulary and technical terms appropriately used in context (e.g., \"transformative technologies,\" \"digital infrastructure,\" \"ethical and responsible AI use\").\\n\\n2. Clear Structure: The essay maintains a logical flow with well-organized paragraphs, each focusing on a specific aspect of India\\'s role in AI. The introduction and conclusion effectively frame the discussion.\\n\\n3. Cohesion: Excellent use of transitional phrases and linking words maintains smooth connections between ideas and paragraphs.\\n\\n4. Grammar and Syntax: The essay displays strong command of complex sentence structures while maintaining grammatical accuracy throughout.\\n\\n5. Academic Tone: Maintains a formal, objective tone appropriate for academic writing while remaining engaging.\\n\\n6. Specific Examples: Effectively incorporates concrete examples to support claims (e.g., specific government initiatives, companies, and AI applications).\\n\\nMinor areas for improvement:\\n1. Some sentences in the \"Challenges and Road Ahead\" section could be more concise.\\n2. The conclusion could be slightly more impactful with specific future predictions.\\n\\nOverall, the essay exhibits sophisticated language use, clear organization, and effective communication of complex ideas.',\n",
       " 'overall_feedback': \"Summarized Feedback:\\n\\nOverall Assessment:\\nThe essay demonstrates exceptional quality across language usage, analytical depth, and clarity of thought, effectively discussing India's role in AI development.\\n\\nKey Strengths:\\n1. Language Excellence:\\n- Sophisticated vocabulary and technical terminology\\n- Varied sentence structure with smooth transitions\\n- Impeccable grammar and mechanics\\n- Professional academic tone\\n\\n2. Analytical Depth:\\n- Comprehensive coverage of multiple dimensions (government initiatives, talent ecosystem, infrastructure)\\n- Well-supported arguments with specific examples\\n- Balanced perspective on achievements and challenges\\n- Logical organization and flow\\n\\n3. Clarity of Expression:\\n- Clear and coherent presentation of complex ideas\\n- Effective use of transitional phrases\\n- Strong paragraph structure and organization\\n- Appropriate academic tone while maintaining engagement\\n\\nAreas for Enhancement:\\n1. Include more statistical data and quantitative evidence\\n2. Add international comparative analysis\\n3. Expand economic impact discussion\\n4. Strengthen conclusion with specific future predictions\\n5. Consider more concise phrasing in the challenges section\\n\\nOverall, the essay exemplifies high-quality academic writing with strong analytical foundations and clear communication of complex ideas.\",\n",
       " 'individual_scores': [8, 9, 9],\n",
       " 'avg_score': 8.666666666666666}"
      ]
     },
     "execution_count": 30,
     "metadata": {},
     "output_type": "execute_result"
    }
   ],
   "source": [
    "initial_state = {\n",
    "    'essay': essay\n",
    "}\n",
    "\n",
    "workflow.invoke(initial_state)"
   ]
  },
  {
   "cell_type": "code",
   "execution_count": 31,
   "id": "963e70e0",
   "metadata": {},
   "outputs": [],
   "source": [
    "essay2 = \"\"\"Role of India in AI\n",
    "\n",
    "Artificial Intelligence is a new and growing thing in the world. Many countries are using it and doing work in AI. India is also doing AI and trying to become better in it. AI is used in computers and apps and helps in doing many things fast and smart.\n",
    "\n",
    "India has many people who study computers and engineering. So, there are many people in India who can work in AI. Some big Indian companies and also some small ones are working in AI. They make apps and websites and sometimes use AI in them. Some foreign companies also come to India and do AI work here.\n",
    "\n",
    "The Indian government is also trying to do something in AI. There are some reports and plans made. There is a website for AI also. But still there are many problems like internet is not everywhere, and not everyone understands AI.\n",
    "\n",
    "AI is also used for helping in farming, schools, and hospitals in India. It can tell when crops are not good or help doctors to know what is wrong. It is also used in traffic and other city works.\n",
    "\n",
    "In the future, India can do more in AI if more people learn it and more tools are available. But it will take time and more work.\"\"\""
   ]
  },
  {
   "cell_type": "code",
   "execution_count": 32,
   "id": "4c1a490f",
   "metadata": {},
   "outputs": [
    {
     "data": {
      "text/plain": [
       "{'essay': 'Role of India in AI\\n\\nArtificial Intelligence is a new and growing thing in the world. Many countries are using it and doing work in AI. India is also doing AI and trying to become better in it. AI is used in computers and apps and helps in doing many things fast and smart.\\n\\nIndia has many people who study computers and engineering. So, there are many people in India who can work in AI. Some big Indian companies and also some small ones are working in AI. They make apps and websites and sometimes use AI in them. Some foreign companies also come to India and do AI work here.\\n\\nThe Indian government is also trying to do something in AI. There are some reports and plans made. There is a website for AI also. But still there are many problems like internet is not everywhere, and not everyone understands AI.\\n\\nAI is also used for helping in farming, schools, and hospitals in India. It can tell when crops are not good or help doctors to know what is wrong. It is also used in traffic and other city works.\\n\\nIn the future, India can do more in AI if more people learn it and more tools are available. But it will take time and more work.',\n",
       " 'language_feedback': 'The essay demonstrates several language quality issues that need improvement:\\n\\n1. Vocabulary and Expression:\\n- The language is overly simplistic and repetitive (e.g., frequent use of \"doing,\" \"make,\" \"things\")\\n- Limited use of technical vocabulary related to AI\\n- Informal expressions like \"growing thing\" could be replaced with more academic alternatives\\n\\n2. Sentence Structure:\\n- Sentences are predominantly short and basic\\n- Lack of complex sentence structures and transitions\\n- Limited use of connecting words and phrases\\n- Poor paragraph cohesion\\n\\n3. Grammar and Style:\\n- Several instances of informal language (\"doing AI,\" \"do something in AI\")\\n- Lack of proper academic tone\\n- Incomplete or imprecise explanations\\n- Missing specific examples and details\\n\\n4. Organization:\\n- Basic paragraph structure is present but underdeveloped\\n- Ideas are not fully elaborated\\n- Transitions between paragraphs are abrupt\\n\\nRecommendations for improvement:\\n1. Use more sophisticated vocabulary and AI-specific terminology\\n2. Incorporate varied sentence structures\\n3. Add specific examples and statistics\\n4. Develop ideas more thoroughly\\n5. Use formal academic language\\n6. Include proper transitions between paragraphs\\n7. Provide more detailed explanations of AI applications\\n\\nThe essay reads like a basic draft and needs significant improvement in terms of language sophistication, detail, and academic style.',\n",
       " 'analysis_feedback': 'The essay on \"Role of India in AI\" demonstrates a very basic and surface-level understanding of the topic. Here\\'s a detailed feedback:\\n\\n1. Content Depth:\\n- The essay lacks specific examples, statistics, or concrete initiatives\\n- No mention of major AI projects or significant developments in India\\n- Missing discussion of important AI hubs, research centers, or educational institutions\\n- Absence of policy details or governmental initiatives like Digital India\\n\\n2. Structure and Development:\\n- Very basic paragraph organization\\n- Ideas are not well-developed or elaborated\\n- Sentences are simple and repetitive\\n- Limited use of transition words and connecting ideas\\n\\n3. Critical Analysis:\\n- No analysis of India\\'s competitive advantages or challenges\\n- Missing comparison with global AI developments\\n- No discussion of economic impact or investment figures\\n- Limited exploration of future implications\\n\\n4. Technical Understanding:\\n- Very elementary explanation of AI applications\\n- No mention of specific AI technologies or frameworks\\n- Missing discussion of key AI domains (ML, Deep Learning, NLP, etc.)\\n- Oversimplified description of AI implementation\\n\\nRecommendations for improvement:\\n1. Include specific examples of Indian AI initiatives and companies\\n2. Discuss major government policies and programs in detail\\n3. Add statistics about AI adoption, investment, and growth\\n4. Explore challenges and opportunities more thoroughly\\n5. Include comparison with global AI landscape\\n6. Incorporate technical aspects of AI development\\n7. Add examples of successful AI implementations in various sectors\\n\\nThe essay reads like a primary school level composition rather than a serious analysis of India\\'s role in AI. It requires substantial development in terms of depth, specifics, and technical understanding.',\n",
       " 'clarity_feedback': 'The essay demonstrates several significant language quality issues that need improvement:\\n\\n1. Vocabulary and Expression:\\n- The language is overly simplistic and repetitive (e.g., frequent use of \"doing\" and \"make\")\\n- Limited use of technical vocabulary related to AI\\n- Basic sentence structures that lack sophistication\\n- Informal expressions like \"doing AI\" instead of more appropriate phrases like \"developing AI\" or \"implementing AI\"\\n\\n2. Grammar and Syntax:\\n- Several instances of incomplete or informal sentence structures\\n- Inconsistent use of tenses\\n- Limited use of complex sentence structures\\n- Basic conjunctions (mostly \"and\") with few advanced connecting words\\n\\n3. Organization and Coherence:\\n- Basic paragraph structure is present but transitions between ideas are abrupt\\n- Ideas are presented in a simplistic, list-like manner\\n- Limited use of cohesive devices to connect ideas\\n\\n4. Content Development:\\n- Ideas are presented superficially without detailed elaboration\\n- Examples are vague and lack specific details\\n- Limited depth in explaining concepts\\n\\nRecommendations for improvement:\\n1. Use more sophisticated vocabulary appropriate for academic writing\\n2. Incorporate specific examples and details about AI initiatives in India\\n3. Employ varied sentence structures and advanced connecting words\\n4. Use formal language instead of conversational expressions\\n5. Develop ideas more thoroughly with supporting evidence\\n6. Include more technical terms related to AI\\n7. Improve transitions between paragraphs and ideas\\n\\nThe essay receives a score of 5/10 as it communicates basic ideas but needs significant improvement in terms of language sophistication, formal expression, and detailed development of ideas.',\n",
       " 'overall_feedback': \"Summarized Feedback:\\n\\nThe essay requires substantial improvement across multiple dimensions:\\n\\nLanguage Quality (5/10):\\n- Overly simplistic and repetitive vocabulary\\n- Basic sentence structures with informal expressions\\n- Poor academic tone and limited technical terminology\\n- Weak paragraph transitions and cohesion\\n\\nDepth of Analysis (4/10):\\n- Surface-level understanding of India's AI role\\n- Lacks specific examples, statistics, and initiatives\\n- Missing critical analysis of advantages/challenges\\n- Insufficient technical depth in AI concepts\\n- Absence of policy details and governmental programs\\n\\nClarity of Thought (5/10):\\n- Basic organization with abrupt transitions\\n- Superficial presentation of ideas\\n- Limited coherence and idea development\\n- Incomplete explanations and vague examples\\n\\nKey Recommendations:\\n1. Enhance vocabulary with AI-specific terminology\\n2. Include detailed examples and statistics\\n3. Incorporate government initiatives and policies\\n4. Improve technical depth and analysis\\n5. Develop formal academic writing style\\n6. Strengthen transitions and idea development\\n7. Add comparative analysis with global context\\n\\nOverall, the essay reads at a basic level and needs significant improvement in sophistication, technical understanding, and analytical depth to meet academic standards.\",\n",
       " 'individual_scores': [3, 5, 4],\n",
       " 'avg_score': 4.0}"
      ]
     },
     "execution_count": 32,
     "metadata": {},
     "output_type": "execute_result"
    }
   ],
   "source": [
    "initial_state = {\n",
    "    'essay': essay2\n",
    "}\n",
    "\n",
    "workflow.invoke(initial_state)"
   ]
  },
  {
   "cell_type": "code",
   "execution_count": 5,
   "id": "e1d54a05",
   "metadata": {},
   "outputs": [
    {
     "data": {
      "text/plain": [
       "\"I aim to be direct and honest: I actually don't know my exact parameter count. What I can say is that I'm Claude-3-sonnet, an AI assistant created by Anthropic, and I believe I'm substantially larger than Claude-2 but likely smaller than Claude-3-opus. However, Anthropic hasn't published my specific parameter count.\""
      ]
     },
     "execution_count": 5,
     "metadata": {},
     "output_type": "execute_result"
    }
   ],
   "source": [
    "model.invoke(\"what is the parameter size of this model : claude-3-5-sonnet-20241022\").content"
   ]
  },
  {
   "cell_type": "code",
   "execution_count": 9,
   "id": "21c87a07",
   "metadata": {},
   "outputs": [],
   "source": [
    "llm = ChatAnthropic(model_name=\"claude-opus-4-0\")"
   ]
  },
  {
   "cell_type": "code",
   "execution_count": 10,
   "id": "77350e0e",
   "metadata": {},
   "outputs": [
    {
     "data": {
      "text/plain": [
       "'I notice there might be some confusion about model names. Let me clarify the available Claude models:\\n\\n**Claude 3.5 Sonnet** (latest version):\\n- Most advanced currently available model\\n- Excellent balance of intelligence, speed, and cost\\n- Strong at complex reasoning, coding, analysis, and creative tasks\\n- Faster than Opus models while often matching or exceeding their capabilities\\n- Released after Claude 3 Opus\\n\\n**Claude 3 Opus**:\\n- Was the most capable model when Claude 3 family launched\\n- Excellent at highly complex tasks requiring deep reasoning\\n- More expensive and slower than Sonnet models\\n- Very strong at nuanced understanding and generation\\n\\n**Key differences:**\\n1. **Performance**: Claude 3.5 Sonnet often outperforms Claude 3 Opus despite being faster\\n2. **Speed**: Sonnet is significantly faster\\n3. **Cost**: Sonnet is more cost-effective\\n4. **Release date**: Claude 3.5 Sonnet is newer\\n\\nNote: \"claude-opus-4-20250514f\" isn\\'t a recognized model name. The latest Opus model is Claude 3 Opus, and the most advanced currently available model is Claude 3.5 Sonnet.\\n\\nFor most use cases, Claude 3.5 Sonnet (latest) would be the recommended choice due to its superior performance-to-speed ratio.'"
      ]
     },
     "execution_count": 10,
     "metadata": {},
     "output_type": "execute_result"
    }
   ],
   "source": [
    "llm.invoke(\"HII can you tell diffrence b/w the claude-opus-4-20250514f model and claude-3-5-sonnet-latest model \").content"
   ]
  },
  {
   "cell_type": "code",
   "execution_count": null,
   "id": "ffea26a1",
   "metadata": {},
   "outputs": [],
   "source": []
  }
 ],
 "metadata": {
  "kernelspec": {
   "display_name": "myvenv",
   "language": "python",
   "name": "python3"
  },
  "language_info": {
   "codemirror_mode": {
    "name": "ipython",
    "version": 3
   },
   "file_extension": ".py",
   "mimetype": "text/x-python",
   "name": "python",
   "nbconvert_exporter": "python",
   "pygments_lexer": "ipython3",
   "version": "3.13.3"
  }
 },
 "nbformat": 4,
 "nbformat_minor": 5
}
