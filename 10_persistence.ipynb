{
 "cells": [
  {
   "cell_type": "code",
   "execution_count": 2,
   "id": "f114ebcb",
   "metadata": {},
   "outputs": [],
   "source": [
    "from langgraph.graph import StateGraph, START , END\n",
    "from typing import TypedDict\n",
    "from langchain_anthropic import ChatAnthropic\n",
    "from dotenv import load_dotenv\n",
    "from langgraph.checkpoint.memory import InMemorySaver"
   ]
  },
  {
   "cell_type": "code",
   "execution_count": 3,
   "id": "213219aa",
   "metadata": {},
   "outputs": [],
   "source": [
    "load_dotenv()\n",
    "\n",
    "llm = llm = ChatAnthropic(model_name='claude-opus-4-0')"
   ]
  },
  {
   "cell_type": "code",
   "execution_count": 4,
   "id": "d10e83ef",
   "metadata": {},
   "outputs": [],
   "source": [
    "class JokeState(TypedDict):\n",
    "\n",
    "    topic: str\n",
    "    joke: str\n",
    "    explanation: str"
   ]
  },
  {
   "cell_type": "code",
   "execution_count": 5,
   "id": "c8ad764e",
   "metadata": {},
   "outputs": [],
   "source": [
    "def generate_jokes(state: JokeState):\n",
    "\n",
    "    prompt = f'generate a joke on the topic  {state[\"topic\"]}'\n",
    "    response = llm.invoke(prompt).content\n",
    "\n",
    "    return {'joke': response}"
   ]
  },
  {
   "cell_type": "code",
   "execution_count": 6,
   "id": "01f33c7f",
   "metadata": {},
   "outputs": [],
   "source": [
    "\n",
    "def generate_explanation(state: JokeState):\n",
    "\n",
    "    prompt = f'write an explanation for the joke - {state[\"joke\"]}'\n",
    "    response = llm.invoke(prompt).content\n",
    "\n",
    "    return {'explanation': response}"
   ]
  },
  {
   "cell_type": "code",
   "execution_count": 7,
   "id": "2557cb2b",
   "metadata": {},
   "outputs": [],
   "source": [
    "graph = StateGraph(JokeState)\n",
    "\n",
    "graph.add_node('generate_jokes', generate_jokes)\n",
    "graph.add_node('generate_explanation', generate_explanation)\n",
    "\n",
    "graph.add_edge(START, 'generate_jokes')\n",
    "graph.add_edge('generate_jokes','generate_explanation')\n",
    "graph.add_edge('generate_explanation', END)\n",
    "\n",
    "checkpointer = InMemorySaver()\n",
    "\n",
    "workflow = graph.compile(checkpointer=checkpointer)"
   ]
  },
  {
   "cell_type": "code",
   "execution_count": 8,
   "id": "a6bda52f",
   "metadata": {},
   "outputs": [
    {
     "data": {
      "text/plain": [
       "{'topic': 'pizza',\n",
       " 'joke': 'Why did the pizza maker go to therapy?\\n\\nHe had too many toppings to deal with!',\n",
       " 'explanation': 'This joke is a pun that plays on the double meaning of \"toppings\" and \"deal with.\"\\n\\nIn the literal sense, a pizza maker works with pizza toppings - ingredients like pepperoni, mushrooms, cheese, etc. Having \"too many toppings\" would be a normal work situation for someone who makes pizzas.\\n\\nBut the phrase \"too many things to deal with\" is a common expression meaning someone is overwhelmed by problems or stress in their life. The joke cleverly substitutes \"toppings\" for \"things,\" creating a wordplay between the pizza-making context and the mental health context.\\n\\nThe humor comes from this unexpected connection between pizza ingredients and emotional baggage - suggesting that the pizza maker needs therapy not for personal issues, but literally because of pizza toppings. It\\'s a lighthearted play on words that combines the professional and psychological meanings of having \"too much to deal with.\"'}"
      ]
     },
     "execution_count": 8,
     "metadata": {},
     "output_type": "execute_result"
    }
   ],
   "source": [
    "config1 = {\"configurable\": {\"thread_id\": \"1\"}}\n",
    "workflow.invoke({'topic': 'pizza'}, config=config1)"
   ]
  },
  {
   "cell_type": "code",
   "execution_count": 9,
   "id": "24e6a382",
   "metadata": {},
   "outputs": [
    {
     "data": {
      "text/plain": [
       "StateSnapshot(values={'topic': 'pizza', 'joke': 'Why did the pizza maker go to therapy?\\n\\nHe had too many toppings to deal with!', 'explanation': 'This joke is a pun that plays on the double meaning of \"toppings\" and \"deal with.\"\\n\\nIn the literal sense, a pizza maker works with pizza toppings - ingredients like pepperoni, mushrooms, cheese, etc. Having \"too many toppings\" would be a normal work situation for someone who makes pizzas.\\n\\nBut the phrase \"too many things to deal with\" is a common expression meaning someone is overwhelmed by problems or stress in their life. The joke cleverly substitutes \"toppings\" for \"things,\" creating a wordplay between the pizza-making context and the mental health context.\\n\\nThe humor comes from this unexpected connection between pizza ingredients and emotional baggage - suggesting that the pizza maker needs therapy not for personal issues, but literally because of pizza toppings. It\\'s a lighthearted play on words that combines the professional and psychological meanings of having \"too much to deal with.\"'}, next=(), config={'configurable': {'thread_id': '1', 'checkpoint_ns': '', 'checkpoint_id': '1f06eaf3-1aca-605e-8002-bd76385b6757'}}, metadata={'source': 'loop', 'step': 2, 'parents': {}, 'thread_id': '1'}, created_at='2025-08-01T08:11:58.021406+00:00', parent_config={'configurable': {'thread_id': '1', 'checkpoint_ns': '', 'checkpoint_id': '1f06eaf1-103a-6aa8-8001-2f5da90b3e3e'}}, tasks=(), interrupts=())"
      ]
     },
     "execution_count": 9,
     "metadata": {},
     "output_type": "execute_result"
    }
   ],
   "source": [
    "workflow.get_state(config1)"
   ]
  },
  {
   "cell_type": "code",
   "execution_count": 10,
   "id": "08356402",
   "metadata": {},
   "outputs": [
    {
     "data": {
      "text/plain": [
       "[StateSnapshot(values={'topic': 'pizza', 'joke': 'Why did the pizza maker go to therapy?\\n\\nHe had too many toppings to deal with!', 'explanation': 'This joke is a pun that plays on the double meaning of \"toppings\" and \"deal with.\"\\n\\nIn the literal sense, a pizza maker works with pizza toppings - ingredients like pepperoni, mushrooms, cheese, etc. Having \"too many toppings\" would be a normal work situation for someone who makes pizzas.\\n\\nBut the phrase \"too many things to deal with\" is a common expression meaning someone is overwhelmed by problems or stress in their life. The joke cleverly substitutes \"toppings\" for \"things,\" creating a wordplay between the pizza-making context and the mental health context.\\n\\nThe humor comes from this unexpected connection between pizza ingredients and emotional baggage - suggesting that the pizza maker needs therapy not for personal issues, but literally because of pizza toppings. It\\'s a lighthearted play on words that combines the professional and psychological meanings of having \"too much to deal with.\"'}, next=(), config={'configurable': {'thread_id': '1', 'checkpoint_ns': '', 'checkpoint_id': '1f06eaf3-1aca-605e-8002-bd76385b6757'}}, metadata={'source': 'loop', 'step': 2, 'parents': {}, 'thread_id': '1'}, created_at='2025-08-01T08:11:58.021406+00:00', parent_config={'configurable': {'thread_id': '1', 'checkpoint_ns': '', 'checkpoint_id': '1f06eaf1-103a-6aa8-8001-2f5da90b3e3e'}}, tasks=(), interrupts=()),\n",
       " StateSnapshot(values={'topic': 'pizza', 'joke': 'Why did the pizza maker go to therapy?\\n\\nHe had too many toppings to deal with!'}, next=('generate_explanation',), config={'configurable': {'thread_id': '1', 'checkpoint_ns': '', 'checkpoint_id': '1f06eaf1-103a-6aa8-8001-2f5da90b3e3e'}}, metadata={'source': 'loop', 'step': 1, 'parents': {}, 'thread_id': '1'}, created_at='2025-08-01T08:11:03.227023+00:00', parent_config={'configurable': {'thread_id': '1', 'checkpoint_ns': '', 'checkpoint_id': '1f06eaf0-622c-69c9-8000-ebe2d22872f4'}}, tasks=(PregelTask(id='25a4fa0b-606f-9cbc-92dc-181e78c81dba', name='generate_explanation', path=('__pregel_pull', 'generate_explanation'), error=None, interrupts=(), state=None, result={'explanation': 'This joke is a pun that plays on the double meaning of \"toppings\" and \"deal with.\"\\n\\nIn the literal sense, a pizza maker works with pizza toppings - ingredients like pepperoni, mushrooms, cheese, etc. Having \"too many toppings\" would be a normal work situation for someone who makes pizzas.\\n\\nBut the phrase \"too many things to deal with\" is a common expression meaning someone is overwhelmed by problems or stress in their life. The joke cleverly substitutes \"toppings\" for \"things,\" creating a wordplay between the pizza-making context and the mental health context.\\n\\nThe humor comes from this unexpected connection between pizza ingredients and emotional baggage - suggesting that the pizza maker needs therapy not for personal issues, but literally because of pizza toppings. It\\'s a lighthearted play on words that combines the professional and psychological meanings of having \"too much to deal with.\"'}),), interrupts=()),\n",
       " StateSnapshot(values={'topic': 'pizza'}, next=('generate_jokes',), config={'configurable': {'thread_id': '1', 'checkpoint_ns': '', 'checkpoint_id': '1f06eaf0-622c-69c9-8000-ebe2d22872f4'}}, metadata={'source': 'loop', 'step': 0, 'parents': {}, 'thread_id': '1'}, created_at='2025-08-01T08:10:44.976040+00:00', parent_config={'configurable': {'thread_id': '1', 'checkpoint_ns': '', 'checkpoint_id': '1f06eaf0-614f-6678-bfff-c7866cd33160'}}, tasks=(PregelTask(id='a2ba3cb1-5b0e-aca8-dfe3-1d40430ed878', name='generate_jokes', path=('__pregel_pull', 'generate_jokes'), error=None, interrupts=(), state=None, result={'joke': 'Why did the pizza maker go to therapy?\\n\\nHe had too many toppings to deal with!'}),), interrupts=()),\n",
       " StateSnapshot(values={}, next=('__start__',), config={'configurable': {'thread_id': '1', 'checkpoint_ns': '', 'checkpoint_id': '1f06eaf0-614f-6678-bfff-c7866cd33160'}}, metadata={'source': 'input', 'step': -1, 'parents': {}, 'thread_id': '1'}, created_at='2025-08-01T08:10:44.885438+00:00', parent_config=None, tasks=(PregelTask(id='a87926fd-48d3-9bc4-a246-b6c47df58b75', name='__start__', path=('__pregel_pull', '__start__'), error=None, interrupts=(), state=None, result={'topic': 'pizza'}),), interrupts=())]"
      ]
     },
     "execution_count": 10,
     "metadata": {},
     "output_type": "execute_result"
    }
   ],
   "source": [
    "list(workflow.get_state_history(config1))"
   ]
  },
  {
   "cell_type": "markdown",
   "id": "98a32adf",
   "metadata": {},
   "source": [
    "Time Travel"
   ]
  },
  {
   "cell_type": "code",
   "execution_count": 15,
   "id": "2460e47a",
   "metadata": {},
   "outputs": [
    {
     "data": {
      "text/plain": [
       "StateSnapshot(values={'topic': 'pizza'}, next=('generate_jokes',), config={'configurable': {'thread_id': '1', 'checkpoint_id': '1f06eaf0-622c-69c9-8000-ebe2d22872f4'}}, metadata={'source': 'loop', 'step': 0, 'parents': {}, 'thread_id': '1'}, created_at='2025-08-01T08:10:44.976040+00:00', parent_config={'configurable': {'thread_id': '1', 'checkpoint_ns': '', 'checkpoint_id': '1f06eaf0-614f-6678-bfff-c7866cd33160'}}, tasks=(PregelTask(id='a2ba3cb1-5b0e-aca8-dfe3-1d40430ed878', name='generate_jokes', path=('__pregel_pull', 'generate_jokes'), error=None, interrupts=(), state=None, result={'joke': 'Why did the pizza maker go to therapy?\\n\\nHe had too many toppings to deal with!'}),), interrupts=())"
      ]
     },
     "execution_count": 15,
     "metadata": {},
     "output_type": "execute_result"
    }
   ],
   "source": [
    "workflow.get_state({\"configurable\": {\"thread_id\": \"1\", \"checkpoint_id\": \"1f06eaf0-622c-69c9-8000-ebe2d22872f4\"}})"
   ]
  },
  {
   "cell_type": "code",
   "execution_count": 16,
   "id": "cd5fad4a",
   "metadata": {},
   "outputs": [
    {
     "data": {
      "text/plain": [
       "{'topic': 'pizza',\n",
       " 'joke': 'Why did the pizza maker go to therapy?\\n\\nHe had too many toppings to deal with!',\n",
       " 'explanation': 'This joke is a pun that plays on the double meaning of \"toppings\" and \"deal with.\"\\n\\nIn the literal sense, a pizza maker works with pizza toppings - ingredients like pepperoni, mushrooms, cheese, etc. Having \"too many toppings\" would just be a normal work situation for someone who makes pizzas.\\n\\nBut the punchline creates humor by connecting this to therapy. In psychology and everyday language, when someone has \"too much to deal with,\" it means they\\'re overwhelmed by problems, stress, or emotional issues - which is why people typically seek therapy.\\n\\nThe joke works by substituting \"toppings\" for \"things\" in the common phrase \"too many things to deal with,\" creating a food pun that links the pizza maker\\'s job to mental health struggles. It\\'s a lighthearted play on words that imagines pizza toppings as emotional baggage or psychological burdens that need professional help to process.'}"
      ]
     },
     "execution_count": 16,
     "metadata": {},
     "output_type": "execute_result"
    }
   ],
   "source": [
    "workflow.invoke(None , {\"configurable\": {\"thread_id\": \"1\", \"checkpoint_id\": \"1f06eaf0-622c-69c9-8000-ebe2d22872f4\"}})"
   ]
  },
  {
   "cell_type": "code",
   "execution_count": 17,
   "id": "b0b8b41b",
   "metadata": {},
   "outputs": [
    {
     "data": {
      "text/plain": [
       "[StateSnapshot(values={'topic': 'pizza', 'joke': 'Why did the pizza maker go to therapy?\\n\\nHe had too many toppings to deal with!', 'explanation': 'This joke is a pun that plays on the double meaning of \"toppings\" and \"deal with.\"\\n\\nIn the literal sense, a pizza maker works with pizza toppings - ingredients like pepperoni, mushrooms, cheese, etc. Having \"too many toppings\" would just be a normal work situation for someone who makes pizzas.\\n\\nBut the punchline creates humor by connecting this to therapy. In psychology and everyday language, when someone has \"too much to deal with,\" it means they\\'re overwhelmed by problems, stress, or emotional issues - which is why people typically seek therapy.\\n\\nThe joke works by substituting \"toppings\" for \"things\" in the common phrase \"too many things to deal with,\" creating a food pun that links the pizza maker\\'s job to mental health struggles. It\\'s a lighthearted play on words that imagines pizza toppings as emotional baggage or psychological burdens that need professional help to process.'}, next=(), config={'configurable': {'thread_id': '1', 'checkpoint_ns': '', 'checkpoint_id': '1f06eafb-c8d5-6d54-8002-7d3df39c0c18'}}, metadata={'source': 'loop', 'step': 2, 'parents': {}, 'thread_id': '1'}, created_at='2025-08-01T08:15:51.019727+00:00', parent_config={'configurable': {'thread_id': '1', 'checkpoint_ns': '', 'checkpoint_id': '1f06eafb-7ec1-63e4-8001-043852116989'}}, tasks=(), interrupts=()),\n",
       " StateSnapshot(values={'topic': 'pizza', 'joke': 'Why did the pizza maker go to therapy?\\n\\nHe had too many toppings to deal with!'}, next=('generate_explanation',), config={'configurable': {'thread_id': '1', 'checkpoint_ns': '', 'checkpoint_id': '1f06eafb-7ec1-63e4-8001-043852116989'}}, metadata={'source': 'loop', 'step': 1, 'parents': {}, 'thread_id': '1'}, created_at='2025-08-01T08:15:43.251934+00:00', parent_config={'configurable': {'thread_id': '1', 'checkpoint_ns': '', 'checkpoint_id': '1f06eaf0-622c-69c9-8000-ebe2d22872f4'}}, tasks=(PregelTask(id='1899b2ef-5bb2-976b-d654-2bca45555f64', name='generate_explanation', path=('__pregel_pull', 'generate_explanation'), error=None, interrupts=(), state=None, result={'explanation': 'This joke is a pun that plays on the double meaning of \"toppings\" and \"deal with.\"\\n\\nIn the literal sense, a pizza maker works with pizza toppings - ingredients like pepperoni, mushrooms, cheese, etc. Having \"too many toppings\" would just be a normal work situation for someone who makes pizzas.\\n\\nBut the punchline creates humor by connecting this to therapy. In psychology and everyday language, when someone has \"too much to deal with,\" it means they\\'re overwhelmed by problems, stress, or emotional issues - which is why people typically seek therapy.\\n\\nThe joke works by substituting \"toppings\" for \"things\" in the common phrase \"too many things to deal with,\" creating a food pun that links the pizza maker\\'s job to mental health struggles. It\\'s a lighthearted play on words that imagines pizza toppings as emotional baggage or psychological burdens that need professional help to process.'}),), interrupts=()),\n",
       " StateSnapshot(values={'topic': 'pizza', 'joke': 'Why did the pizza maker go to therapy?\\n\\nHe had too many toppings to deal with!', 'explanation': 'This joke is a pun that plays on the double meaning of \"toppings\" and \"deal with.\"\\n\\nIn the literal sense, a pizza maker works with pizza toppings - ingredients like pepperoni, mushrooms, cheese, etc. Having \"too many toppings\" would be a normal work situation for someone who makes pizzas.\\n\\nBut the phrase \"too many things to deal with\" is a common expression meaning someone is overwhelmed by problems or stress in their life. The joke cleverly substitutes \"toppings\" for \"things,\" creating a wordplay between the pizza-making context and the mental health context.\\n\\nThe humor comes from this unexpected connection between pizza ingredients and emotional baggage - suggesting that the pizza maker needs therapy not for personal issues, but literally because of pizza toppings. It\\'s a lighthearted play on words that combines the professional and psychological meanings of having \"too much to deal with.\"'}, next=(), config={'configurable': {'thread_id': '1', 'checkpoint_ns': '', 'checkpoint_id': '1f06eaf3-1aca-605e-8002-bd76385b6757'}}, metadata={'source': 'loop', 'step': 2, 'parents': {}, 'thread_id': '1'}, created_at='2025-08-01T08:11:58.021406+00:00', parent_config={'configurable': {'thread_id': '1', 'checkpoint_ns': '', 'checkpoint_id': '1f06eaf1-103a-6aa8-8001-2f5da90b3e3e'}}, tasks=(), interrupts=()),\n",
       " StateSnapshot(values={'topic': 'pizza', 'joke': 'Why did the pizza maker go to therapy?\\n\\nHe had too many toppings to deal with!'}, next=('generate_explanation',), config={'configurable': {'thread_id': '1', 'checkpoint_ns': '', 'checkpoint_id': '1f06eaf1-103a-6aa8-8001-2f5da90b3e3e'}}, metadata={'source': 'loop', 'step': 1, 'parents': {}, 'thread_id': '1'}, created_at='2025-08-01T08:11:03.227023+00:00', parent_config={'configurable': {'thread_id': '1', 'checkpoint_ns': '', 'checkpoint_id': '1f06eaf0-622c-69c9-8000-ebe2d22872f4'}}, tasks=(PregelTask(id='25a4fa0b-606f-9cbc-92dc-181e78c81dba', name='generate_explanation', path=('__pregel_pull', 'generate_explanation'), error=None, interrupts=(), state=None, result={'explanation': 'This joke is a pun that plays on the double meaning of \"toppings\" and \"deal with.\"\\n\\nIn the literal sense, a pizza maker works with pizza toppings - ingredients like pepperoni, mushrooms, cheese, etc. Having \"too many toppings\" would be a normal work situation for someone who makes pizzas.\\n\\nBut the phrase \"too many things to deal with\" is a common expression meaning someone is overwhelmed by problems or stress in their life. The joke cleverly substitutes \"toppings\" for \"things,\" creating a wordplay between the pizza-making context and the mental health context.\\n\\nThe humor comes from this unexpected connection between pizza ingredients and emotional baggage - suggesting that the pizza maker needs therapy not for personal issues, but literally because of pizza toppings. It\\'s a lighthearted play on words that combines the professional and psychological meanings of having \"too much to deal with.\"'}),), interrupts=()),\n",
       " StateSnapshot(values={'topic': 'pizza'}, next=('generate_jokes',), config={'configurable': {'thread_id': '1', 'checkpoint_ns': '', 'checkpoint_id': '1f06eaf0-622c-69c9-8000-ebe2d22872f4'}}, metadata={'source': 'loop', 'step': 0, 'parents': {}, 'thread_id': '1'}, created_at='2025-08-01T08:10:44.976040+00:00', parent_config={'configurable': {'thread_id': '1', 'checkpoint_ns': '', 'checkpoint_id': '1f06eaf0-614f-6678-bfff-c7866cd33160'}}, tasks=(PregelTask(id='a2ba3cb1-5b0e-aca8-dfe3-1d40430ed878', name='generate_jokes', path=('__pregel_pull', 'generate_jokes'), error=None, interrupts=(), state=None, result={'joke': 'Why did the pizza maker go to therapy?\\n\\nHe had too many toppings to deal with!'}),), interrupts=()),\n",
       " StateSnapshot(values={}, next=('__start__',), config={'configurable': {'thread_id': '1', 'checkpoint_ns': '', 'checkpoint_id': '1f06eaf0-614f-6678-bfff-c7866cd33160'}}, metadata={'source': 'input', 'step': -1, 'parents': {}, 'thread_id': '1'}, created_at='2025-08-01T08:10:44.885438+00:00', parent_config=None, tasks=(PregelTask(id='a87926fd-48d3-9bc4-a246-b6c47df58b75', name='__start__', path=('__pregel_pull', '__start__'), error=None, interrupts=(), state=None, result={'topic': 'pizza'}),), interrupts=())]"
      ]
     },
     "execution_count": 17,
     "metadata": {},
     "output_type": "execute_result"
    }
   ],
   "source": [
    "list(workflow.get_state_history(config1))"
   ]
  },
  {
   "cell_type": "markdown",
   "id": "e02781af",
   "metadata": {},
   "source": [
    "Updating Stae"
   ]
  },
  {
   "cell_type": "code",
   "execution_count": 20,
   "id": "81e6ed39",
   "metadata": {},
   "outputs": [
    {
     "data": {
      "text/plain": [
       "{'configurable': {'thread_id': '1',\n",
       "  'checkpoint_ns': '',\n",
       "  'checkpoint_id': '1f06eb07-42ac-6572-8001-c4e7a27a78bd'}}"
      ]
     },
     "execution_count": 20,
     "metadata": {},
     "output_type": "execute_result"
    }
   ],
   "source": [
    "workflow.update_state({\"configurable\": {\"thread_id\": \"1\", \"checkpoint_id\": \"1f06eaf0-622c-69c9-8000-ebe2d22872f4\", \"checkpoint_ns\": \"\" }}, {'topic':'samosa'})"
   ]
  },
  {
   "cell_type": "code",
   "execution_count": 21,
   "id": "87d3ca7c",
   "metadata": {},
   "outputs": [
    {
     "data": {
      "text/plain": [
       "[StateSnapshot(values={'topic': 'samosa'}, next=('generate_jokes',), config={'configurable': {'thread_id': '1', 'checkpoint_ns': '', 'checkpoint_id': '1f06eb07-42ac-6572-8001-c4e7a27a78bd'}}, metadata={'source': 'update', 'step': 1, 'parents': {}, 'thread_id': '1'}, created_at='2025-08-01T08:20:59.074464+00:00', parent_config={'configurable': {'thread_id': '1', 'checkpoint_ns': '', 'checkpoint_id': '1f06eaf0-622c-69c9-8000-ebe2d22872f4'}}, tasks=(PregelTask(id='c062defe-b211-bc7b-b573-26a7b3c1da6a', name='generate_jokes', path=('__pregel_pull', 'generate_jokes'), error=None, interrupts=(), state=None, result=None),), interrupts=()),\n",
       " StateSnapshot(values={'topic': 'pizza', 'joke': 'Why did the pizza maker go to therapy?\\n\\nHe had too many toppings to deal with!', 'explanation': 'This joke is a pun that plays on the double meaning of \"toppings\" and \"deal with.\"\\n\\nIn the literal sense, a pizza maker works with pizza toppings - ingredients like pepperoni, mushrooms, cheese, etc. Having \"too many toppings\" would just be a normal work situation for someone who makes pizzas.\\n\\nBut the punchline creates humor by connecting this to therapy. In psychology and everyday language, when someone has \"too much to deal with,\" it means they\\'re overwhelmed by problems, stress, or emotional issues - which is why people typically seek therapy.\\n\\nThe joke works by substituting \"toppings\" for \"things\" in the common phrase \"too many things to deal with,\" creating a food pun that links the pizza maker\\'s job to mental health struggles. It\\'s a lighthearted play on words that imagines pizza toppings as emotional baggage or psychological burdens that need professional help to process.'}, next=(), config={'configurable': {'thread_id': '1', 'checkpoint_ns': '', 'checkpoint_id': '1f06eafb-c8d5-6d54-8002-7d3df39c0c18'}}, metadata={'source': 'loop', 'step': 2, 'parents': {}, 'thread_id': '1'}, created_at='2025-08-01T08:15:51.019727+00:00', parent_config={'configurable': {'thread_id': '1', 'checkpoint_ns': '', 'checkpoint_id': '1f06eafb-7ec1-63e4-8001-043852116989'}}, tasks=(), interrupts=()),\n",
       " StateSnapshot(values={'topic': 'pizza', 'joke': 'Why did the pizza maker go to therapy?\\n\\nHe had too many toppings to deal with!'}, next=('generate_explanation',), config={'configurable': {'thread_id': '1', 'checkpoint_ns': '', 'checkpoint_id': '1f06eafb-7ec1-63e4-8001-043852116989'}}, metadata={'source': 'loop', 'step': 1, 'parents': {}, 'thread_id': '1'}, created_at='2025-08-01T08:15:43.251934+00:00', parent_config={'configurable': {'thread_id': '1', 'checkpoint_ns': '', 'checkpoint_id': '1f06eaf0-622c-69c9-8000-ebe2d22872f4'}}, tasks=(PregelTask(id='1899b2ef-5bb2-976b-d654-2bca45555f64', name='generate_explanation', path=('__pregel_pull', 'generate_explanation'), error=None, interrupts=(), state=None, result={'explanation': 'This joke is a pun that plays on the double meaning of \"toppings\" and \"deal with.\"\\n\\nIn the literal sense, a pizza maker works with pizza toppings - ingredients like pepperoni, mushrooms, cheese, etc. Having \"too many toppings\" would just be a normal work situation for someone who makes pizzas.\\n\\nBut the punchline creates humor by connecting this to therapy. In psychology and everyday language, when someone has \"too much to deal with,\" it means they\\'re overwhelmed by problems, stress, or emotional issues - which is why people typically seek therapy.\\n\\nThe joke works by substituting \"toppings\" for \"things\" in the common phrase \"too many things to deal with,\" creating a food pun that links the pizza maker\\'s job to mental health struggles. It\\'s a lighthearted play on words that imagines pizza toppings as emotional baggage or psychological burdens that need professional help to process.'}),), interrupts=()),\n",
       " StateSnapshot(values={'topic': 'pizza', 'joke': 'Why did the pizza maker go to therapy?\\n\\nHe had too many toppings to deal with!', 'explanation': 'This joke is a pun that plays on the double meaning of \"toppings\" and \"deal with.\"\\n\\nIn the literal sense, a pizza maker works with pizza toppings - ingredients like pepperoni, mushrooms, cheese, etc. Having \"too many toppings\" would be a normal work situation for someone who makes pizzas.\\n\\nBut the phrase \"too many things to deal with\" is a common expression meaning someone is overwhelmed by problems or stress in their life. The joke cleverly substitutes \"toppings\" for \"things,\" creating a wordplay between the pizza-making context and the mental health context.\\n\\nThe humor comes from this unexpected connection between pizza ingredients and emotional baggage - suggesting that the pizza maker needs therapy not for personal issues, but literally because of pizza toppings. It\\'s a lighthearted play on words that combines the professional and psychological meanings of having \"too much to deal with.\"'}, next=(), config={'configurable': {'thread_id': '1', 'checkpoint_ns': '', 'checkpoint_id': '1f06eaf3-1aca-605e-8002-bd76385b6757'}}, metadata={'source': 'loop', 'step': 2, 'parents': {}, 'thread_id': '1'}, created_at='2025-08-01T08:11:58.021406+00:00', parent_config={'configurable': {'thread_id': '1', 'checkpoint_ns': '', 'checkpoint_id': '1f06eaf1-103a-6aa8-8001-2f5da90b3e3e'}}, tasks=(), interrupts=()),\n",
       " StateSnapshot(values={'topic': 'pizza', 'joke': 'Why did the pizza maker go to therapy?\\n\\nHe had too many toppings to deal with!'}, next=('generate_explanation',), config={'configurable': {'thread_id': '1', 'checkpoint_ns': '', 'checkpoint_id': '1f06eaf1-103a-6aa8-8001-2f5da90b3e3e'}}, metadata={'source': 'loop', 'step': 1, 'parents': {}, 'thread_id': '1'}, created_at='2025-08-01T08:11:03.227023+00:00', parent_config={'configurable': {'thread_id': '1', 'checkpoint_ns': '', 'checkpoint_id': '1f06eaf0-622c-69c9-8000-ebe2d22872f4'}}, tasks=(PregelTask(id='25a4fa0b-606f-9cbc-92dc-181e78c81dba', name='generate_explanation', path=('__pregel_pull', 'generate_explanation'), error=None, interrupts=(), state=None, result={'explanation': 'This joke is a pun that plays on the double meaning of \"toppings\" and \"deal with.\"\\n\\nIn the literal sense, a pizza maker works with pizza toppings - ingredients like pepperoni, mushrooms, cheese, etc. Having \"too many toppings\" would be a normal work situation for someone who makes pizzas.\\n\\nBut the phrase \"too many things to deal with\" is a common expression meaning someone is overwhelmed by problems or stress in their life. The joke cleverly substitutes \"toppings\" for \"things,\" creating a wordplay between the pizza-making context and the mental health context.\\n\\nThe humor comes from this unexpected connection between pizza ingredients and emotional baggage - suggesting that the pizza maker needs therapy not for personal issues, but literally because of pizza toppings. It\\'s a lighthearted play on words that combines the professional and psychological meanings of having \"too much to deal with.\"'}),), interrupts=()),\n",
       " StateSnapshot(values={'topic': 'pizza'}, next=('generate_jokes',), config={'configurable': {'thread_id': '1', 'checkpoint_ns': '', 'checkpoint_id': '1f06eaf0-622c-69c9-8000-ebe2d22872f4'}}, metadata={'source': 'loop', 'step': 0, 'parents': {}, 'thread_id': '1'}, created_at='2025-08-01T08:10:44.976040+00:00', parent_config={'configurable': {'thread_id': '1', 'checkpoint_ns': '', 'checkpoint_id': '1f06eaf0-614f-6678-bfff-c7866cd33160'}}, tasks=(PregelTask(id='a2ba3cb1-5b0e-aca8-dfe3-1d40430ed878', name='generate_jokes', path=('__pregel_pull', 'generate_jokes'), error=None, interrupts=(), state=None, result={'joke': 'Why did the pizza maker go to therapy?\\n\\nHe had too many toppings to deal with!'}),), interrupts=()),\n",
       " StateSnapshot(values={}, next=('__start__',), config={'configurable': {'thread_id': '1', 'checkpoint_ns': '', 'checkpoint_id': '1f06eaf0-614f-6678-bfff-c7866cd33160'}}, metadata={'source': 'input', 'step': -1, 'parents': {}, 'thread_id': '1'}, created_at='2025-08-01T08:10:44.885438+00:00', parent_config=None, tasks=(PregelTask(id='a87926fd-48d3-9bc4-a246-b6c47df58b75', name='__start__', path=('__pregel_pull', '__start__'), error=None, interrupts=(), state=None, result={'topic': 'pizza'}),), interrupts=())]"
      ]
     },
     "execution_count": 21,
     "metadata": {},
     "output_type": "execute_result"
    }
   ],
   "source": [
    "list(workflow.get_state_history(config1))"
   ]
  },
  {
   "cell_type": "code",
   "execution_count": 22,
   "id": "99576324",
   "metadata": {},
   "outputs": [
    {
     "data": {
      "text/plain": [
       "{'topic': 'samosa',\n",
       " 'joke': 'Why did the samosa go to therapy?\\n\\nBecause it had too many *layers* to work through and kept feeling *fried* under pressure!\\n\\n🥟😄',\n",
       " 'explanation': 'This joke is a delightful play on words that uses the physical characteristics of a samosa to create a mental health metaphor!\\n\\n**The Setup:** The joke personifies a samosa (a popular triangular fried pastry from South Asian cuisine) as someone seeking psychological help.\\n\\n**The Punchline Works on Two Levels:**\\n\\n1. **\"Too many layers\"** - Samosas literally have multiple layers of thin, flaky pastry that are folded to create their distinctive triangular shape. But in therapy-speak, having \"layers\" refers to complex emotional issues, past traumas, or psychological defenses that need to be \"worked through\" or unpacked.\\n\\n2. **\"Feeling fried\"** - Samosas are deep-fried as part of their cooking process, making them crispy and golden. But \"feeling fried\" is also a common expression meaning feeling exhausted, burnt out, or overwhelmed by stress.\\n\\nThe humor comes from this clever double meaning - the samosa\\'s actual physical properties (layered and fried) perfectly match common psychological struggles that might lead someone to seek therapy. It\\'s a lighthearted way of normalizing therapy while also celebrating wordplay!\\n\\nThe emoji combination 🥟😄 adds to the playful tone, making it clear this is meant to be a fun, food-based pun rather than making light of actual mental health issues.'}"
      ]
     },
     "execution_count": 22,
     "metadata": {},
     "output_type": "execute_result"
    }
   ],
   "source": [
    "workflow.invoke(None , {\"configurable\": {\"thread_id\": \"1\", \"checkpoint_id\": \"1f06eb07-42ac-6572-8001-c4e7a27a78bd\"}})"
   ]
  }
 ],
 "metadata": {
  "kernelspec": {
   "display_name": "myvenv",
   "language": "python",
   "name": "python3"
  },
  "language_info": {
   "codemirror_mode": {
    "name": "ipython",
    "version": 3
   },
   "file_extension": ".py",
   "mimetype": "text/x-python",
   "name": "python",
   "nbconvert_exporter": "python",
   "pygments_lexer": "ipython3",
   "version": "3.13.3"
  }
 },
 "nbformat": 4,
 "nbformat_minor": 5
}
